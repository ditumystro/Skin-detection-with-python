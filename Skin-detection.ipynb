{
  "nbformat": 4,
  "nbformat_minor": 0,
  "metadata": {
    "colab": {
      "name": "Copie de Untitled4.ipynb",
      "provenance": [],
      "collapsed_sections": [],
      "authorship_tag": "ABX9TyN/UApmX6YRjvEcbzwzaLCz",
      "include_colab_link": true
    },
    "kernelspec": {
      "name": "python3",
      "display_name": "Python 3"
    },
    "language_info": {
      "name": "python"
    }
  },
  "cells": [
    {
      "cell_type": "markdown",
      "metadata": {
        "id": "view-in-github",
        "colab_type": "text"
      },
      "source": [
        "<a href=\"https://colab.research.google.com/github/ditumystro/Skin-detection-with-python/blob/main/Skin-detection.ipynb\" target=\"_parent\"><img src=\"https://colab.research.google.com/assets/colab-badge.svg\" alt=\"Open In Colab\"/></a>"
      ]
    },
    {
      "cell_type": "code",
      "execution_count": 3,
      "metadata": {
        "id": "9DXIEAhuuk3D"
      },
      "outputs": [],
      "source": [
        "import cv2\n",
        "from google.colab.patches import cv2_imshow\n",
        "import numpy as np\n",
        "import cv2\n",
        "import numpy as np\n",
        "from numpy import array\n",
        "from matplotlib import pyplot as plt\n",
        "from copy import deepcopy\n",
        "import os, os.path\n",
        "import pickle\n",
        "from pathlib import Path\n",
        "import time\n",
        "from time import gmtime, strftime\n",
        "import pandas as pd\n",
        "import seaborn as sns\n",
        "import sys\n"
      ]
    },
    {
      "cell_type": "code",
      "source": [
        "\n",
        "#Open a simple image\n",
        "img=cv2.imread(\"0724.jpg\")\n",
        "\n",
        "#converting from gbr to hsv color space\n",
        "img_HSV = cv2.cvtColor(img, cv2.COLOR_BGR2HSV)\n",
        "\n",
        "#skin color range for hsv color space \n",
        "HSV_mask = cv2.inRange(img_HSV, (0, 15, 0), (17,170,255)) \n",
        "HSV_mask = cv2.morphologyEx(HSV_mask, cv2.MORPH_OPEN, np.ones((3,3), np.uint8))\n",
        "\n",
        "#converting from gbr to YCbCr color space\n",
        "img_YCrCb = cv2.cvtColor(img, cv2.COLOR_BGR2YCrCb)\n",
        "#skin color range for hsv color space \n",
        "YCrCb_mask = cv2.inRange(img_YCrCb, (0, 135, 85), (255,180,135)) \n",
        "YCrCb_mask = cv2.morphologyEx(YCrCb_mask, cv2.MORPH_OPEN, np.ones((3,3), np.uint8))\n",
        "\n",
        "#merge skin detection (YCbCr and hsv)\n",
        "global_mask=cv2.bitwise_and(YCrCb_mask,HSV_mask)\n",
        "global_mask=cv2.medianBlur(global_mask,3)\n",
        "global_mask = cv2.morphologyEx(global_mask, cv2.MORPH_OPEN, np.ones((4,4), np.uint8))\n",
        "\n",
        "\n",
        "HSV_result = cv2.bitwise_not(HSV_mask)\n",
        "YCrCb_result = cv2.bitwise_not(YCrCb_mask)\n",
        "global_result=cv2.bitwise_not(global_mask)\n",
        "\n",
        "\n",
        "#show results\n",
        "cv2_imshow(HSV_result)\n",
        "cv2_imshow(YCrCb_result)\n",
        "cv2_imshow(global_result)\n",
        "cv2_imshow(img)\n",
        "cv2.imwrite(\"1_HSV.jpg\",HSV_result)\n",
        "cv2.imwrite(\"2_YCbCr.jpg\",YCrCb_result)\n",
        "cv2.imwrite(\"3_global_result.jpg\",global_result)\n",
        "cv2.waitKey(0)\n",
        "cv2.destroyAllWindows()  "
      ],
      "metadata": {
        "id": "MVb29ZO0DbWD"
      },
      "execution_count": null,
      "outputs": []
    },
    {
      "cell_type": "code",
      "source": [
        "MIDDLE_DATA_DIR = '/middle_data'\n",
        "OBJECTS = ['SKIN','NON_SKIN']\n",
        "DIR_TRAIN = 'train/original_images'\n",
        "DIR_TEST = '/test'\n",
        "EXT= '.jpg'\n",
        "\n",
        "SCALE = 1\n",
        "\n",
        "HISTS = []\n",
        "\n",
        "len(OBJECTS)\n",
        "nbre_img = len([name for name in os.listdir(DIR_TRAIN) if os.path.isfile(os.path.join(DIR_TRAIN, name))])\n",
        "nbre_img /=len(OBJECTS)+1\n",
        "nbre_img = int(nbre_img)\n",
        "nbre_img"
      ],
      "metadata": {
        "colab": {
          "base_uri": "https://localhost:8080/"
        },
        "id": "ej69MaRgAJBu",
        "outputId": "5b4392b7-ebc0-4ce2-a999-5bc4b366a627"
      },
      "execution_count": 8,
      "outputs": [
        {
          "output_type": "execute_result",
          "data": {
            "text/plain": [
              "400"
            ]
          },
          "metadata": {},
          "execution_count": 8
        }
      ]
    },
    {
      "cell_type": "code",
      "source": [
        "def train(OBJECTS, EXTENSION=EXT, SAVE_INTERMEDIATE_DATA=False, SHOW=True):\n",
        "\t#Welcome message\n",
        "\tprint('-     - ------ -     ----   ---  - _ -  ----   -----  --- ')\n",
        "\tprint(' - - -  |-- \t  -    |      |   | |   |  |--      |   |   |')\n",
        "\tprint('  - -   -----  ----  ----   ---  -   -  ----     |    --- ')\n",
        "\n",
        "\n",
        "\t\n",
        "\t#Initilization of histograms\n",
        "\tfor i in range(0,len(OBJECTS)):\n",
        "\t\t# Filling 0 value to all\n",
        "\t\tHISTS.append([[0] * 256  for i in range(256)])\n",
        "  \n",
        "  nbre_img = len([name for name in os.listdir(DIR_TRAIN) if os.path.isfile(os.path.join(DIR_TRAIN, name))])\n",
        "  ###nbre_img /=len(OBJECTS)+1\n",
        "\tnbre_img = int(nbre_img)\n",
        " \n",
        "\t# Looping through images in dataset\n",
        "\tprint(nbre_img)\n",
        "\tprint('****************')\n",
        "\tprint('STARTED TRAIN :'+strftime(\"%Y-%m-%d %H:%M:%S\", gmtime()))\n",
        "\tprint('****************')\n",
        " \n",
        "\tfor i in range(0,nbre_img):\n",
        "\t\tprint('Image [',str(i+1),']..................................['+str(i+1)+'/'+str(nbre_img)+']')\n",
        "\t\t##### Original image\n",
        "\t\torig = str(i+1)+EXTENSION\n",
        "\t\timg_orig = cv2.imread(DIR_TRAIN+'/'+orig)\n",
        "\n",
        "\t\t##### Conversion to CIELAB space\n",
        "\t\t#print(img_orig)\n",
        "\t\timg_orig_lab = cv2.cvtColor((img_orig/SCALE).astype(np.uint8), cv2.COLOR_BGR2LAB)\n",
        "\n",
        "\t\t##### Filename every class\n",
        "\t\t#fnames = []\n",
        "\t\t#for k in range(0, len(OBJECTS)):\n",
        "\t\t#\tfnames.append(str(i+1)+CLASS_SUFFIXES[k]+EXTENSION)\n",
        "\n",
        "\t\t##### Mask Images for every class\n",
        "\t\tmasks = []\n",
        "\t\tfor k in range(0, len(OBJECTS)):\n",
        "\t\t\tmasks.append(cv2.imread(DIR_TRAIN+'/'+fnames[k],0))\n",
        "\t\t\n",
        "\t\t##### Shape size for loop\n",
        "\t\th = img_orig.shape[0]\n",
        "\t\tw = img_orig.shape[1]\n",
        "\n",
        "\t\t##### Looping through pixels\n",
        "\t\tfor y in range(0, h-1):\n",
        "\t\t\tfor x in range(0, w-1):\n",
        "\t\t\t\t# Temporary variables for A&B [We ignore the L]\n",
        "\t\t\t\ttmp_a = img_orig_lab[y,x][1]\n",
        "\t\t\t\ttmp_b = img_orig_lab[y,x][2]\n",
        "\n",
        "\t\t\t\tfor k in range(0, len(CLASS_SUFFIXES)):\n",
        "\t\t\t\t# Increment count in HISTS[k] according to mask value\n",
        "\t\t\t\t\tif(masks[k][y,x] != 0):\n",
        "\t\t\t\t\t\tHISTS[k][tmp_a][tmp_b] +=1\n",
        "\t\t\t\t\t\tDATA_PIX[k]+=1\n",
        "\t\t\t\tDATA_PIX[2]+=1\n",
        "\n",
        "\t\tif(SAVE_INTERMEDIATE_DATA):\n",
        "\t  \t\tfor o in range(0,len(OBJECTS)):\n",
        "\t  \t\t\tcv2.imwrite(INTERMEDIATE_DATAS_DIR+'/'+str(i)+CLASS_SUFFIXES[o]+'_masked_by_'+OBJECTS[o]+EXTENSION, cv2.bitwise_and(img_orig,img_orig,mask = masks[o]))\n",
        "\t\t  \tif(not Path(SAVED_VALUES_DIR).is_dir()):\n",
        "\t\t  \t\tos.mkdir(SAVED_VALUES_DIR)\n",
        "\t\t  \tif(not Path(SAVED_VALUES_DIR+'/'+CONFIG_SAVED_FILE).is_file()):\n",
        "\t\t  \t\tos.mknod(SAVED_VALUES_DIR+'/'+CONFIG_SAVED_FILE)\n",
        "\t\t  \tf = open(SAVED_VALUES_DIR+'/'+CONFIG_SAVED_FILE, \"wb\")\n",
        "\t\t  \tf.truncate(0)\n",
        "\t\t  \tpickler = pickle.Pickler(f)\n",
        "\t\t  \tpickler.dump([HISTS,DATA_PIX])\n",
        "\tprint('****************')\n",
        "\tprint('FINISHED TRAIN :'+strftime(\"%Y-%m-%d %H:%M:%S\", gmtime()))\n",
        "\tprint('****************')\n",
        "\tif True:\n",
        "\t\tHis = []\n",
        "\t\t##### Histogramm normalization to get values between [0,1]\n",
        "\t\tfor k in range(0,len(HISTS)):\n",
        "\t\t\tHis.append([array(x) / DATA_PIX[k] for x in HISTS[k]])\n",
        "\t\tfor i in range(0,len(HISTS)):\n",
        "\t\t\thisto_file = SAVED_VALUES_DIR+'/'+'HISTOGRAM_NORMALIZED_'+OBJECTS[i]+'.csv'\n",
        "\t\t\tif(not Path(histo_file).is_file()):\n",
        "\t\t\t\tos.mknod(histo_file)\n",
        "\t\t\twith open(histo_file, 'w', newline='') as myfile:\n",
        "\t\t\t\tmyfile.truncate(0)\n",
        "\t\t\t\twr = csv.writer(myfile, quoting=csv.QUOTE_ALL)\n",
        "\t\t\t\twr.writerow(His[i])\n",
        "\t\t\thisto_file = SAVED_VALUES_DIR+'/'+'HISTOGRAM_'+OBJECTS[i]+'.csv'\n",
        "\t\t\tif(not Path(histo_file).is_file()):\n",
        "\t\t\t\tos.mknod(histo_file)\n",
        "\t\t\twith open(histo_file, 'w', newline='') as myfile:\n",
        "\t\t\t\tmyfile.truncate(0)\n",
        "\t\t\t\twr = csv.writer(myfile, quoting=csv.QUOTE_ALL)\n",
        "\t\t\t\twr.writerow(HISTS[i])\n",
        "\tf = open(SAVED_VALUES_DIR+'/'+CONFIG_SAVED_FILE, \"wb\")\n",
        "\tf.truncate(0)\n",
        "\tpickler = pickle.Pickler(f)\n",
        "\tpickler.dump([HISTS,DATA_PIX])\n",
        "\treturn HISTS"
      ],
      "metadata": {
        "id": "7udWslvGu0oT"
      },
      "execution_count": null,
      "outputs": []
    },
    {
      "cell_type": "code",
      "source": [
        "HISTS = train(CLASSES,EXT,True, False)"
      ],
      "metadata": {
        "id": "dTOxbKF7EGQH"
      },
      "execution_count": null,
      "outputs": []
    }
  ]
}