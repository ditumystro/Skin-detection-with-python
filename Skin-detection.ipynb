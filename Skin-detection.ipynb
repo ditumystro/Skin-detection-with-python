{
  "nbformat": 4,
  "nbformat_minor": 0,
  "metadata": {
    "colab": {
      "name": "Copie de Untitled4.ipynb",
      "provenance": [],
      "collapsed_sections": [],
      "authorship_tag": "ABX9TyORmJa4KiHL6lfvnB8DEeZP",
      "include_colab_link": true
    },
    "kernelspec": {
      "name": "python3",
      "display_name": "Python 3"
    },
    "language_info": {
      "name": "python"
    }
  },
  "cells": [
    {
      "cell_type": "markdown",
      "metadata": {
        "id": "view-in-github",
        "colab_type": "text"
      },
      "source": [
        "<a href=\"https://colab.research.google.com/github/ditumystro/Skin-detection-with-python/blob/main/Skin-detection.ipynb\" target=\"_parent\"><img src=\"https://colab.research.google.com/assets/colab-badge.svg\" alt=\"Open In Colab\"/></a>"
      ]
    },
    {
      "cell_type": "code",
      "execution_count": null,
      "metadata": {
        "id": "9DXIEAhuuk3D"
      },
      "outputs": [],
      "source": [
        "import cv2\n",
        "import numpy as np\n",
        "import matplotlib.pyplot as plt\n",
        "\n",
        "min_HSV = np.array([0, 58, 30], dtype = \"uint8\")\n",
        "max_HSV = np.array([33, 255, 255], dtype = \"uint8\")\n",
        "# Get pointer to video frames from primary device\n",
        "image = cv2.imread(\"/assets/img/skin-detection/rock.jpg\")\n",
        "imageHSV = cv2.cvtColor(image, cv2.COLOR_BGR2HSV)\n",
        "skinRegionHSV = cv2.inRange(imageHSV, min_HSV, max_HSV)\n",
        "\n",
        "skinHSV = cv2.bitwise_and(image, image, mask = skinRegionHSV)\n",
        "\n",
        "cv2.imwrite(\"/assets/img/skin-detection/hsv.png\", np.hstack([image, skinHSV]))"
      ]
    },
    {
      "cell_type": "code",
      "source": [
        ""
      ],
      "metadata": {
        "id": "7udWslvGu0oT"
      },
      "execution_count": null,
      "outputs": []
    }
  ]
}